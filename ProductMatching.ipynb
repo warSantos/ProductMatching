{
    "cells": [
        {
            "cell_type": "markdown",
            "source": [
                "# Classificação de produtos pela categoria.\n",
                "\n",
                "Neste notebook exploramos diferentes estratégias de ML/DL para classificar produtos em suas categorias."
            ],
            "metadata": {}
        },
        {
            "cell_type": "code",
            "execution_count": 1,
            "source": [
                "import os\n",
                "\n",
                "import numpy as np\n",
                "import pandas as pd\n",
                "import matplotlib.pyplot as plt\n",
                "\n",
                "from sklearn.model_selection import train_test_split, KFold, cross_val_score\n",
                "from sklearn.metrics import accuracy_score, f1_score\n",
                "from sklearn.ensemble import GradientBoostingClassifier, RandomForestClassifier, RandomForestRegressor\n",
                "from sklearn.svm import SVC\n",
                "from sklearn.linear_model import LogisticRegression\n",
                "from sklearn.neighbors import KNeighborsClassifier\n",
                "from sklearn.svm import SVC\n",
                "from sklearn.base import clone\n",
                "\n",
                "from gensim.models.fasttext import FastText\n",
                "\n",
                "# Módulos locais\n",
                "\n",
                "from utils.text_clean import clean_text\n",
                "from utils.word2vec import Word2VecModel\n",
                "from utils.doc2vec import Doc2VecModel\n",
                "\n",
                "from utils.clfs import Clfs"
            ],
            "outputs": [],
            "metadata": {}
        },
        {
            "cell_type": "code",
            "execution_count": 3,
            "source": [
                "headers = [\"p_id\", \"p_title\", \"vendor_id\", \"cluster_id\", \"cluster_title\", \"cat_id\", \"cat_title\"]\n",
                "df = pd.read_csv('datasets/pricerunner_aggregate.csv', header=0, names = headers)\n",
                "#df = df[df.cat_id == 2612]\n",
                "df.head()"
            ],
            "outputs": [
                {
                    "output_type": "execute_result",
                    "data": {
                        "text/plain": [
                            "   p_id                                            p_title  vendor_id  \\\n",
                            "0     2                apple iphone 8 plus 64 gb spacegrau          2   \n",
                            "1     3  apple mq8n2b/a iphone 8 plus 64gb 5.5 12mp sim...          3   \n",
                            "2     4                apple iphone 8 plus 64gb space grey          4   \n",
                            "3     5  apple iphone 8 plus gold 5.5 64gb 4g unlocked ...          5   \n",
                            "4     6  apple iphone 8 plus gold 5.5 64gb 4g unlocked ...          6   \n",
                            "\n",
                            "   cluster_id             cluster_title  cat_id      cat_title  \n",
                            "0           1  Apple iPhone 8 Plus 64GB    2612  Mobile Phones  \n",
                            "1           1  Apple iPhone 8 Plus 64GB    2612  Mobile Phones  \n",
                            "2           1  Apple iPhone 8 Plus 64GB    2612  Mobile Phones  \n",
                            "3           1  Apple iPhone 8 Plus 64GB    2612  Mobile Phones  \n",
                            "4           1  Apple iPhone 8 Plus 64GB    2612  Mobile Phones  "
                        ],
                        "text/html": [
                            "<div>\n",
                            "<style scoped>\n",
                            "    .dataframe tbody tr th:only-of-type {\n",
                            "        vertical-align: middle;\n",
                            "    }\n",
                            "\n",
                            "    .dataframe tbody tr th {\n",
                            "        vertical-align: top;\n",
                            "    }\n",
                            "\n",
                            "    .dataframe thead th {\n",
                            "        text-align: right;\n",
                            "    }\n",
                            "</style>\n",
                            "<table border=\"1\" class=\"dataframe\">\n",
                            "  <thead>\n",
                            "    <tr style=\"text-align: right;\">\n",
                            "      <th></th>\n",
                            "      <th>p_id</th>\n",
                            "      <th>p_title</th>\n",
                            "      <th>vendor_id</th>\n",
                            "      <th>cluster_id</th>\n",
                            "      <th>cluster_title</th>\n",
                            "      <th>cat_id</th>\n",
                            "      <th>cat_title</th>\n",
                            "    </tr>\n",
                            "  </thead>\n",
                            "  <tbody>\n",
                            "    <tr>\n",
                            "      <th>0</th>\n",
                            "      <td>2</td>\n",
                            "      <td>apple iphone 8 plus 64 gb spacegrau</td>\n",
                            "      <td>2</td>\n",
                            "      <td>1</td>\n",
                            "      <td>Apple iPhone 8 Plus 64GB</td>\n",
                            "      <td>2612</td>\n",
                            "      <td>Mobile Phones</td>\n",
                            "    </tr>\n",
                            "    <tr>\n",
                            "      <th>1</th>\n",
                            "      <td>3</td>\n",
                            "      <td>apple mq8n2b/a iphone 8 plus 64gb 5.5 12mp sim...</td>\n",
                            "      <td>3</td>\n",
                            "      <td>1</td>\n",
                            "      <td>Apple iPhone 8 Plus 64GB</td>\n",
                            "      <td>2612</td>\n",
                            "      <td>Mobile Phones</td>\n",
                            "    </tr>\n",
                            "    <tr>\n",
                            "      <th>2</th>\n",
                            "      <td>4</td>\n",
                            "      <td>apple iphone 8 plus 64gb space grey</td>\n",
                            "      <td>4</td>\n",
                            "      <td>1</td>\n",
                            "      <td>Apple iPhone 8 Plus 64GB</td>\n",
                            "      <td>2612</td>\n",
                            "      <td>Mobile Phones</td>\n",
                            "    </tr>\n",
                            "    <tr>\n",
                            "      <th>3</th>\n",
                            "      <td>5</td>\n",
                            "      <td>apple iphone 8 plus gold 5.5 64gb 4g unlocked ...</td>\n",
                            "      <td>5</td>\n",
                            "      <td>1</td>\n",
                            "      <td>Apple iPhone 8 Plus 64GB</td>\n",
                            "      <td>2612</td>\n",
                            "      <td>Mobile Phones</td>\n",
                            "    </tr>\n",
                            "    <tr>\n",
                            "      <th>4</th>\n",
                            "      <td>6</td>\n",
                            "      <td>apple iphone 8 plus gold 5.5 64gb 4g unlocked ...</td>\n",
                            "      <td>6</td>\n",
                            "      <td>1</td>\n",
                            "      <td>Apple iPhone 8 Plus 64GB</td>\n",
                            "      <td>2612</td>\n",
                            "      <td>Mobile Phones</td>\n",
                            "    </tr>\n",
                            "  </tbody>\n",
                            "</table>\n",
                            "</div>"
                        ]
                    },
                    "metadata": {},
                    "execution_count": 3
                }
            ],
            "metadata": {}
        },
        {
            "cell_type": "markdown",
            "source": [
                "# Construção de atributos (Features)"
            ],
            "metadata": {}
        },
        {
            "cell_type": "code",
            "execution_count": 4,
            "source": [
                "df = df[ (df.p_title.notna()) & (df.p_title.notnull()) ]"
            ],
            "outputs": [],
            "metadata": {}
        },
        {
            "cell_type": "code",
            "execution_count": 5,
            "source": [
                "# Atribuindo a cada produto da base um inteiro com a quantidade de nomes\n",
                "# diferentes estão associados ao seu ID (incluindo ele).\n",
                "counts = df.cluster_id.value_counts()\n",
                "freqs = [ counts[cid] for cid in df.cluster_id ]\n",
                "df[\"freqs\"] = freqs"
            ],
            "outputs": [],
            "metadata": {}
        },
        {
            "cell_type": "code",
            "execution_count": 6,
            "source": [
                "feat_tokens = clean_text(df.p_title.values)"
            ],
            "outputs": [],
            "metadata": {}
        },
        {
            "cell_type": "code",
            "execution_count": 7,
            "source": [
                "params = {\n",
                "    \"vector_size\": 100,\n",
                "    \"sg\": 1,\n",
                "    \"epochs\": 5\n",
                "}\n",
                "\n",
                "w2v = Word2VecModel(feat_tokens, params=params)"
            ],
            "outputs": [],
            "metadata": {}
        },
        {
            "cell_type": "code",
            "execution_count": 8,
            "source": [
                "feats = w2v.transform(feat_tokens)\n",
                "feats.shape"
            ],
            "outputs": [],
            "metadata": {}
        },
        {
            "cell_type": "markdown",
            "source": [
                "# Classificação de produtos por categoria.\n",
                "\n",
                "Verificando o desempenho dos classificadores por categoria."
            ],
            "metadata": {}
        },
        {
            "cell_type": "code",
            "execution_count": null,
            "source": [
                "r = np.random\n",
                "seed = r.randint(0, 2147483647 * 2)\n",
                "\n",
                "\"\"\"\n",
                "classifiers = {\n",
                "    \"RandomForestClassifier\": RandomForestClassifier(n_jobs=10, random_state=seed),\n",
                "    \"LogisticRegression\": LogisticRegression(max_iter=400, multi_class='multinomial', n_jobs=10, random_state=seed),\n",
                "    \"GradientBoostingClassifier\": GradientBoostingClassifier(random_state=seed),\n",
                "    \"KNeighborsClassifier\": KNeighborsClassifier(n_jobs=10),\n",
                "    \"SVC\": SVC(random_state=seed)\n",
                "}\n",
                "\"\"\"\n",
                "classifiers = {\n",
                "    \"RandomForestClassifier\": RandomForestClassifier(n_jobs=10, random_state=seed),\n",
                "    \"LogisticRegression\": LogisticRegression(max_iter=400, multi_class='multinomial', n_jobs=10, random_state=seed),\n",
                "    \"KNeighborsClassifier\": KNeighborsClassifier(n_jobs=10)\n",
                "}"
            ],
            "outputs": [],
            "metadata": {}
        },
        {
            "cell_type": "code",
            "execution_count": null,
            "source": [],
            "outputs": [],
            "metadata": {}
        },
        {
            "cell_type": "code",
            "execution_count": null,
            "source": [
                "\n",
                "r = np.random\n",
                "seed = r.randint(0, 2147483647 * 2)\n",
                "\n",
                "# Verificando a taxa de acerto pela quantidade de classes.\n",
                "n_fold = 5\n",
                "ids = list(set(df[(df.freqs >= n_fold) & (df.cat_id == 2612)].cluster_id))\n",
                "len(ids)\n",
                "limit = 50\n",
                "for i in range(3, limit):\n",
                "    # Escolhendo um sample de produtos aleatório.\n",
                "    clusters_ids = np.random.choice(ids, i)\n",
                "    set_sample = df.cluster_id.isin(clusters_ids)\n",
                "    target = df[set_sample][\"cluster_id\"].values\n",
                "    vecs = feats[set_sample]\n",
                "    \n",
                "    clf = SVC()\n",
                "    print(\"Number of classes: \", i, \"F1: \", np.mean(cross_val_score(clf, vecs, target, cv=n_fold, n_jobs=10, scoring='f1_macro')))\n",
                "    \n",
                "    \n",
                "\n",
                "\n",
                "    \n"
            ],
            "outputs": [],
            "metadata": {}
        },
        {
            "cell_type": "code",
            "execution_count": null,
            "source": [
                "df[df.cluster_id.isin([45222])]"
            ],
            "outputs": [],
            "metadata": {}
        },
        {
            "cell_type": "code",
            "execution_count": null,
            "source": [
                "set(df.cat_id)"
            ],
            "outputs": [],
            "metadata": {}
        },
        {
            "cell_type": "code",
            "execution_count": null,
            "source": [],
            "outputs": [],
            "metadata": {}
        }
    ],
    "metadata": {
        "orig_nbformat": 4,
        "language_info": {
            "name": "python",
            "version": "3.9.2",
            "mimetype": "text/x-python",
            "codemirror_mode": {
                "name": "ipython",
                "version": 3
            },
            "pygments_lexer": "ipython3",
            "nbconvert_exporter": "python",
            "file_extension": ".py"
        },
        "kernelspec": {
            "name": "python3",
            "display_name": "Python 3.9.2 64-bit ('.env': venv)"
        },
        "interpreter": {
            "hash": "7d523c96b21cf24f4470c6693ca6bd0822e9cd1ea6681fac67f9c2c7b59def3d"
        }
    },
    "nbformat": 4,
    "nbformat_minor": 2
}